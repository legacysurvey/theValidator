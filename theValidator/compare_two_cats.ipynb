{
 "cells": [
  {
   "cell_type": "markdown",
   "metadata": {},
   "source": [
    "# Comparing 2 Stacks of Catalogues"
   ]
  },
  {
   "cell_type": "markdown",
   "metadata": {},
   "source": [
    "## Environment: anaconda-2.7 "
   ]
  },
  {
   "cell_type": "code",
   "execution_count": 1,
   "metadata": {
    "collapsed": false
   },
   "outputs": [
    {
     "name": "stdout",
     "output_type": "stream",
     "text": [
      "/anaconda2/bin/python\n",
      "['', '/anaconda2/lib/python27.zip', '/anaconda2/lib/python2.7', '/anaconda2/lib/python2.7/plat-linux2', '/anaconda2/lib/python2.7/lib-tk', '/anaconda2/lib/python2.7/lib-old', '/anaconda2/lib/python2.7/lib-dynload', '/global/homes/k/kaylanb/.local/lib/python2.7/site-packages', '/anaconda2/lib/python2.7/site-packages', '/anaconda2/lib/python2.7/site-packages/Sphinx-1.4.1-py2.7.egg', '/anaconda2/lib/python2.7/site-packages/setuptools-23.0.0-py2.7.egg', '/anaconda2/lib/python2.7/site-packages/IPython/extensions', '/global/u2/k/kaylanb/.ipython', '/global/homes/k/kaylanb/repos/astrometry.net', '/global/homes/k/kaylanb/repos/tractor']\n"
     ]
    }
   ],
   "source": [
    "import sys\n",
    "print sys.executable\n",
    "# Hack!, this avoids messing with NERSC's config file for jupyter hub\n",
    "sys.path.append('/global/homes/k/kaylanb/repos/astrometry.net')\n",
    "sys.path.append('/global/homes/k/kaylanb/repos/tractor')\n",
    "sys.path\n",
    "print sys.path"
   ]
  },
  {
   "cell_type": "markdown",
   "metadata": {},
   "source": [
    "## Need more packages?"
   ]
  },
  {
   "cell_type": "code",
   "execution_count": 5,
   "metadata": {
    "collapsed": true
   },
   "outputs": [],
   "source": [
    "# Easy if pip, conda installable\n",
    "#!/anaconda2/bin/pip install ...\n",
    "#!/anaconda2/bin/conda install ..."
   ]
  },
  {
   "cell_type": "markdown",
   "metadata": {},
   "source": [
    "# Main()\n",
    "\n",
    "Run [legacy-zeropoints-qa.py](https://github.com/legacysurvey/legacypipe/blob/57fd01b80ed6af65543a1177798977da45975f3a/py/legacyccds/legacy-zeropoints.py) like this `\"python legacy-zeropoints-qa.py\"` to analyze everything. \n",
    "\n",
    "See below to walk through it step by step."
   ]
  },
  {
   "cell_type": "code",
   "execution_count": 2,
   "metadata": {
    "collapsed": false
   },
   "outputs": [],
   "source": [
    "%matplotlib inline\n",
    "%load_ext autoreload\n",
    "%autoreload 2\n",
    "\n",
    "import numpy as np\n",
    "import matplotlib.pyplot as plt\n",
    "import fitsio\n",
    "import glob\n",
    "import os\n",
    "import matplotlib.patches as mpatches\n",
    "from matplotlib.collections import PatchCollection\n",
    "from astropy import units\n",
    "from astropy.coordinates import SkyCoord\n",
    "\n",
    "from astrometry.util.fits import fits_table, merge_tables\n",
    "from tractor.brightness import NanoMaggies\n"
   ]
  },
  {
   "cell_type": "code",
   "execution_count": 3,
   "metadata": {
    "collapsed": false
   },
   "outputs": [],
   "source": [
    "import catalogues as cat"
   ]
  },
  {
   "cell_type": "markdown",
   "metadata": {},
   "source": [
    "# MZLS v2, v3 tractor cats"
   ]
  },
  {
   "cell_type": "code",
   "execution_count": 28,
   "metadata": {
    "collapsed": false
   },
   "outputs": [
    {
     "data": {
      "text/plain": [
       "1"
      ]
     },
     "execution_count": 28,
     "metadata": {},
     "output_type": "execute_result"
    }
   ],
   "source": [
    "cut= np.all((np.all(v2.get('decam_nobs')[:,[4]] == 1,axis=1),\\\n",
    "             ),axis=0)\n",
    "v2.get('decam_nobs')[:,4][cut]"
   ]
  },
  {
   "cell_type": "code",
   "execution_count": 24,
   "metadata": {
    "collapsed": false
   },
   "outputs": [
    {
     "data": {
      "text/plain": [
       "(array([     9,     13,     14, ..., 165676, 165677, 165682]),)"
      ]
     },
     "execution_count": 24,
     "metadata": {},
     "output_type": "execute_result"
    }
   ],
   "source": [
    "np.where(v2.get('decam_nobs')[:,4] == 1)"
   ]
  },
  {
   "cell_type": "code",
   "execution_count": null,
   "metadata": {
    "collapsed": true
   },
   "outputs": [],
   "source": [
    "fits_funcs= cat.CatalogueFuncs()\n",
    "v2=fits_funcs.stack('v2_cats.txt')\n",
    "v3=fits_funcs.stack('v3_cats.txt')"
   ]
  },
  {
   "cell_type": "code",
   "execution_count": 29,
   "metadata": {
    "collapsed": false
   },
   "outputs": [
    {
     "name": "stdout",
     "output_type": "stream",
     "text": [
      "Matched: 86162/88034 objects\n"
     ]
    }
   ],
   "source": [
    "cut= np.all((np.all(v2.get('decam_nobs')[:,[4]] == 1,axis=1),\\\n",
    "             ),axis=0)\n",
    "v2.cut(cut)\n",
    "cut= np.all((np.all(v3.get('decam_nobs')[:,[4]] == 1,axis=1),\\\n",
    "             ),axis=0)\n",
    "v3.cut(cut)\n",
    "\n",
    "mat=cat.Matcher()\n",
    "imatch,imiss,d2d= mat.match_within(v2,v3) #,dist=1./3600)\n",
    "fits_funcs.set_mags(v2)\n",
    "fits_funcs.set_mags(v3)"
   ]
  },
  {
   "cell_type": "code",
   "execution_count": 9,
   "metadata": {
    "collapsed": true
   },
   "outputs": [],
   "source": [
    "import plots"
   ]
  },
  {
   "cell_type": "code",
   "execution_count": 30,
   "metadata": {
    "collapsed": false
   },
   "outputs": [],
   "source": [
    "k=plots.Kaylans(v2,v3,imatch,\\\n",
    "                ref_name='v2',obs_name='v3',savefig=True)"
   ]
  },
  {
   "cell_type": "code",
   "execution_count": 31,
   "metadata": {
    "collapsed": false
   },
   "outputs": [
    {
     "name": "stdout",
     "output_type": "stream",
     "text": [
      "('Median mw_trans', 'g', 'is', 0.64602697)\n",
      "('Median mw_trans', 'r', 'is', 0.74504399)\n",
      "('Median mw_trans', 'z', 'is', 0.84821224)\n",
      "('Raw mean and std of points:', nan, nan)\n",
      "('sig= ', array([], dtype=float32), 'len(sig)=', 0)\n",
      "('Median and percentile-based sigma:', nan, -1)\n",
      "('Raw mean and std of points:', nan, nan)\n",
      "('sig= ', array([], dtype=float32), 'len(sig)=', 0)\n",
      "('Median and percentile-based sigma:', nan, -1)\n",
      "('Raw mean and std of points:', 0.028856862, 0.29600513)\n",
      "('sig= ', array([ 0.00747771,  0.05404525, -0.18384862, ...,  0.44771522,\n",
      "        0.30427396,  0.26952279], dtype=float32), 'len(sig)=', 33502)\n",
      "('Median and percentile-based sigma:', 0.018961083, 0.1335631977021694)\n",
      "('y=', array([ nan,  nan,  nan, ...,  nan,  nan,  nan], dtype=float32))\n",
      "('I=', array([], dtype=int64))\n",
      "('ybin =', array([], dtype=float32))\n",
      "('Mag bin', 21.0, 24.0, 'band', 'g', ': IQD is factor', -0.74130110925280102, 'vs expected for Gaussian;', 0, 'points')\n",
      "('y=', array([ nan,  nan,  nan, ...,  nan,  nan,  nan], dtype=float32))\n",
      "('I=', array([], dtype=int64))\n",
      "('ybin =', array([], dtype=float32))\n",
      "('Mag bin', 21.0, 23.5, 'band', 'r', ': IQD is factor', -0.74130110925280102, 'vs expected for Gaussian;', 0, 'points')\n",
      "('Mag bin', 16.25, ': IQD is factor', 2.4620998551269846, 'vs expected for Gaussian;', 1500, 'points')\n",
      "('Mag bin', 16.75, ': IQD is factor', 2.0272153060447744, 'vs expected for Gaussian;', 1799, 'points')\n",
      "('Mag bin', 17.25, ': IQD is factor', 1.3147107804448173, 'vs expected for Gaussian;', 2296, 'points')\n",
      "('Mag bin', 17.75, ': IQD is factor', 0.79141734790230589, 'vs expected for Gaussian;', 2659, 'points')\n",
      "('Mag bin', 18.25, ': IQD is factor', 0.51687610963758235, 'vs expected for Gaussian;', 3136, 'points')\n",
      "('Mag bin', 18.75, ': IQD is factor', 0.34744157986493845, 'vs expected for Gaussian;', 3754, 'points')\n",
      "('Mag bin', 19.25, ': IQD is factor', 0.25580123825926171, 'vs expected for Gaussian;', 4302, 'points')\n",
      "('Mag bin', 19.75, ': IQD is factor', 0.20186076945589429, 'vs expected for Gaussian;', 4953, 'points')\n",
      "('Mag bin', 20.25, ': IQD is factor', 0.16378717172949639, 'vs expected for Gaussian;', 5657, 'points')\n",
      "('Mag bin', 20.75, ': IQD is factor', 0.13825173301170635, 'vs expected for Gaussian;', 6396, 'points')\n",
      "('Mag bin', 21.25, ': IQD is factor', 0.12707267113487436, 'vs expected for Gaussian;', 7494, 'points')\n",
      "('Mag bin', 21.75, ': IQD is factor', 0.12054514534353583, 'vs expected for Gaussian;', 8355, 'points')\n",
      "('Mag bin', 22.25, ': IQD is factor', 0.11934734965750081, 'vs expected for Gaussian;', 6876, 'points')\n",
      "('Mag bin', 22.75, ': IQD is factor', 0.10722030297782431, 'vs expected for Gaussian;', 778, 'points')\n",
      "('y=', array([ 0.13694769, -0.42085388,  0.05377205, ..., -0.30433059,\n",
      "       -0.26951423, -0.09043867], dtype=float32))\n",
      "('I=', array([    5,     6,    14, ..., 86158, 86159, 86160]))\n",
      "('ybin =', array([-0.00747961, -0.05404866, -0.12845783, ..., -0.44715759,\n",
      "       -0.30433059, -0.26951423], dtype=float32))\n",
      "('Mag bin', 21.0, 22.5, 'band', 'z', ': IQD is factor', 0.12218840718767411, 'vs expected for Gaussian;', 22725, 'points')\n"
     ]
    }
   ],
   "source": [
    "d=plots.Dustins(v2,v3,imatch,d2d,\\\n",
    "             ref_name='v2',obs_name='v3',savefig=True)"
   ]
  },
  {
   "cell_type": "code",
   "execution_count": 375,
   "metadata": {
    "collapsed": true
   },
   "outputs": [],
   "source": [
    "import plots\n",
    "d=plots.Dustins(v2,v3,imatch,d2d,plot_all=False)\n"
   ]
  },
  {
   "cell_type": "code",
   "execution_count": 397,
   "metadata": {
    "collapsed": false
   },
   "outputs": [
    {
     "data": {
      "text/plain": [
       "[1, 2, 3, 4]"
      ]
     },
     "execution_count": 397,
     "metadata": {},
     "output_type": "execute_result"
    }
   ],
   "source": [
    "\n",
    "mat.match_within(self,ref,obs,dist=1./3600)"
   ]
  },
  {
   "cell_type": "code",
   "execution_count": 456,
   "metadata": {
    "collapsed": true
   },
   "outputs": [],
   "source": [
    "# Take v2 and shift everything by 1/3 pix in dec\n",
    "fits_funcs= cat.CatalogueFuncs()\n",
    "v4=fits_funcs.stack('v2_cats.txt')"
   ]
  },
  {
   "cell_type": "code",
   "execution_count": 457,
   "metadata": {
    "collapsed": false
   },
   "outputs": [
    {
     "name": "stdout",
     "output_type": "stream",
     "text": [
      "Matched: 165699/165699 objects\n"
     ]
    }
   ],
   "source": [
    "third_pix= (1./3)*0.262/3600\n",
    "v4.set('dec',v4.get('dec')+third_pix)\n",
    "fits_funcs.set_extra_data(v4)\n",
    "mat=cat.Matcher()\n",
    "imatch,imiss,d2d= mat.match_within(v2,v4) #,dist=1./3600)"
   ]
  },
  {
   "cell_type": "code",
   "execution_count": 460,
   "metadata": {
    "collapsed": false
   },
   "outputs": [
    {
     "data": {
      "image/png": "[encoded data removed]",
      "text/plain": [
       "<matplotlib.figure.Figure at 0x7fe623848990>"
      ]
     },
     "metadata": {},
     "output_type": "display_data"
    }
   ],
   "source": [
    "a=plt.hist(d2d * 3600., 100,range=(0.01,0.2))"
   ]
  },
  {
   "cell_type": "code",
   "execution_count": 396,
   "metadata": {
    "collapsed": false
   },
   "outputs": [],
   "source": [
    "import plots\n",
    "k=plots.Kaylans(v2,v3,imatch,plot_all=False)\n",
    "for mytype in ['PSF','SIMP','DEV','COMP']:\n",
    "    k.stacked_confusion_matrix(v2[ imatch['ref'] ],v3[ imatch['obs'] ],\\\n",
    "                               ref_name='v2',obs_name='v3',savefig=True,\\\n",
    "                               band='z',mytype=mytype)"
   ]
  },
  {
   "cell_type": "code",
   "execution_count": 486,
   "metadata": {
    "collapsed": false
   },
   "outputs": [],
   "source": [
    "import plots\n",
    "k=plots.Kaylans(v2,v3,imatch,plot_all=False)\n",
    "# k.barchart(v2,v3,\\\n",
    "#            ref_name='v2',obs_name='v3',savefig=True,prefix='alldata')\n",
    "# k.barchart(v2[ imatch['ref']],v3[imatch['obs']],\\\n",
    "#            ref_name='v2',obs_name='v3',savefig=True,prefix='matchedonly')\n",
    "k.delta_mag_vs_mag(v2[ imatch['ref']],v3[imatch['obs']],\\\n",
    "            ref_name='v2',obs_name='v3',savefig=True,ylim=[-0.2,0.2])"
   ]
  },
  {
   "cell_type": "code",
   "execution_count": null,
   "metadata": {
    "collapsed": true
   },
   "outputs": [],
   "source": []
  },
  {
   "cell_type": "code",
   "execution_count": 480,
   "metadata": {
    "collapsed": false
   },
   "outputs": [],
   "source": [
    "import plots\n",
    "d=plots.Dustins(v2,v3,imatch,d2d,plot_all=False)\n",
    "d.match_distance(d2d,range=(0,0.2),prefix='',savefig=True)\n",
    "# imatch_2,imiss_2,d2d_2= mat.match_within(v3,v2)\n",
    "# d.match_/distance(d2d_2,range=(0,0.2),savefig=True,prefix='2_')"
   ]
  },
  {
   "cell_type": "code",
   "execution_count": 442,
   "metadata": {
    "collapsed": false
   },
   "outputs": [
    {
     "name": "stdout",
     "output_type": "stream",
     "text": [
      "within 1arcsec, nn=2, 21119/165699\n",
      "within 1arcsec, nn=3, 1155/165699\n",
      "within 1arcsec, nn=4, 4/165699\n",
      "within 1arcsec, nn=2, 20958/163769\n",
      "within 1arcsec, nn=3, 1120/163769\n",
      "within 1arcsec, nn=4, 0/163769\n",
      "within 1arcsec, nn=1, 161755/165699\n",
      "within 1arcsec, nn=2, 20778/165699\n",
      "within 1arcsec, nn=3, 1113/165699\n"
     ]
    }
   ],
   "source": [
    "import catalogues\n",
    "mat=catalogues.Matcher()\n",
    "d={}\n",
    "for key in ['v2_auto','v3_auto','v2v3_cross']:\n",
    "    d[key]={}\n",
    "    if key == 'v2v3_cross':\n",
    "        tup= mat.nearest_neighbors_within(v2,v3,within=1./3600,min_nn=1,max_nn=3)\n",
    "    elif key == 'v2_auto': \n",
    "        tup= mat.nearest_neighbors_within(v2,v2,within=1./3600,min_nn=2,max_nn=4)\n",
    "    elif key == 'v3_auto': \n",
    "        tup= mat.nearest_neighbors_within(v3,v3,within=1./3600,min_nn=2,max_nn=4)\n",
    "    d[key]['ref'],d[key]['obs'],d[key]['dist']= tup"
   ]
  },
  {
   "cell_type": "code",
   "execution_count": 443,
   "metadata": {
    "collapsed": false
   },
   "outputs": [
    {
     "data": {
      "text/plain": [
       "{'1': array([  2.02415355e-06,   5.88182857e-07,   8.29685969e-07, ...,\n",
       "          5.03871223e-06,   3.26318253e-06,   5.21471035e-05]),\n",
       " '2': array([  6.24419260e-06,   1.95633020e-06,   7.03720806e-07, ...,\n",
       "          1.30326732e-05,   8.14032630e-06,   9.12097698e-06]),\n",
       " '3': array([  1.13596996e-06,   8.55659268e-06,   4.83908940e-06, ...,\n",
       "          3.07454543e-06,   2.22440656e-06,   1.56397319e-05])}"
      ]
     },
     "execution_count": 443,
     "metadata": {},
     "output_type": "execute_result"
    }
   ],
   "source": [
    "d[key]['dist']"
   ]
  },
  {
   "cell_type": "code",
   "execution_count": 444,
   "metadata": {
    "collapsed": false
   },
   "outputs": [
    {
     "name": "stdout",
     "output_type": "stream",
     "text": [
      "nn=1, len(dists[nn])=161755\n",
      "nn=2, len(dists[nn])=182533\n",
      "nn=3, len(dists[nn])=183646\n"
     ]
    }
   ],
   "source": [
    "key='v2v3_cross'\n",
    "dists={}\n",
    "for cnt,nn in enumerate(np.sort(d[key]['ref'].keys())):\n",
    "    if cnt == 0:\n",
    "        dists[nn]= d[key]['dist'][nn]\n",
    "    else:\n",
    "        dists[nn]= np.concatenate((d[key]['dist'][nn], dists[str(int(nn)-1)]))\n",
    "    print('nn=%s, len(dists[nn])=%d' % (nn,len(dists[nn])))\n",
    "#     if str(int(nn)-1) in d[key]['ref'].keys():\n",
    "#     distsplt.hist(d[key]['dist'][nn]*3600,20,range=(0.01,0.1),normed=True)"
   ]
  },
  {
   "cell_type": "code",
   "execution_count": 449,
   "metadata": {
    "collapsed": false
   },
   "outputs": [
    {
     "name": "stdout",
     "output_type": "stream",
     "text": [
      "[  2.02415355e-06   5.88182857e-07   8.29685969e-07 ...,   5.03871223e-06\n",
      "   3.26318253e-06   5.21471035e-05]\n"
     ]
    },
    {
     "data": {
      "text/plain": [
       "(array([ 63.81948522,  42.94800705,  29.73376534,  20.2379658 ,\n",
       "         14.23796097,  11.0887618 ,   8.31370218,   6.08493222,\n",
       "          4.00076833,   2.41010141,   1.80872372,   1.39785882,\n",
       "          1.20964137,   0.94338255,   0.82172981,   0.63351237,\n",
       "          0.55088032,   0.46136227,   0.40856957]),\n",
       " array([ 0.01      ,  0.01473684,  0.01947368,  0.02421053,  0.02894737,\n",
       "         0.03368421,  0.03842105,  0.04315789,  0.04789474,  0.05263158,\n",
       "         0.05736842,  0.06210526,  0.06684211,  0.07157895,  0.07631579,\n",
       "         0.08105263,  0.08578947,  0.09052632,  0.09526316,  0.1       ]))"
      ]
     },
     "execution_count": 449,
     "metadata": {},
     "output_type": "execute_result"
    }
   ],
   "source": [
    "print dists['1']\n",
    "np.histogram(dists['1']*3600,bins=bins,normed=True)"
   ]
  },
  {
   "cell_type": "code",
   "execution_count": 455,
   "metadata": {
    "collapsed": false
   },
   "outputs": [
    {
     "name": "stdout",
     "output_type": "stream",
     "text": [
      "[ 0.01        0.01473684  0.01947368  0.02421053  0.02894737  0.03368421\n",
      "  0.03842105  0.04315789  0.04789474  0.05263158  0.05736842  0.06210526\n",
      "  0.06684211  0.07157895  0.07631579  0.08105263  0.08578947  0.09052632\n",
      "  0.09526316  0.1       ]\n",
      "3\n",
      "[ 0.01236842  0.01710526  0.02184211  0.02657895  0.03131579  0.03605263\n",
      "  0.04078947  0.04552632  0.05026316  0.055       0.05973684  0.06447368\n",
      "  0.06921053  0.07394737  0.07868421  0.08342105  0.08815789  0.09289474\n",
      "  0.09763158] [ 62.63252882  42.8880365   29.57574992  20.10839082  14.38198818\n",
      "  11.10090343   8.47563574   6.38621858   4.1068544    2.56728386\n",
      "   1.90146959   1.52557445   1.28564137   1.03771053   0.88975181\n",
      "   0.709802     0.59383435   0.4918628    0.45187395]\n",
      "2\n",
      "[ 0.01236842  0.01710526  0.02184211  0.02657895  0.03131579  0.03605263\n",
      "  0.04078947  0.04552632  0.05026316  0.055       0.05973684  0.06447368\n",
      "  0.06921053  0.07394737  0.07868421  0.08342105  0.08815789  0.09289474\n",
      "  0.09763158] [ 62.67751122  42.89012209  29.62673379  20.09335893  14.39265842\n",
      "  11.11958673   8.4705324    6.33679562   4.09838497   2.55847117\n",
      "   1.88614279   1.52381013   1.28628094   1.01855737   0.88570206\n",
      "   0.71258756   0.59382297   0.49116205   0.44888991]\n",
      "1\n",
      "[ 0.01236842  0.01710526  0.02184211  0.02657895  0.03131579  0.03605263\n",
      "  0.04078947  0.04552632  0.05026316  0.055       0.05973684  0.06447368\n",
      "  0.06921053  0.07394737  0.07868421  0.08342105  0.08815789  0.09289474\n",
      "  0.09763158] [ 63.81948522  42.94800705  29.73376534  20.2379658   14.23796097\n",
      "  11.0887618    8.31370218   6.08493222   4.00076833   2.41010141\n",
      "   1.80872372   1.39785882   1.20964137   0.94338255   0.82172981\n",
      "   0.63351237   0.55088032   0.46136227   0.40856957]\n"
     ]
    },
    {
     "data": {
      "text/plain": [
       "(0.0, 70.0)"
      ]
     },
     "execution_count": 455,
     "metadata": {},
     "output_type": "execute_result"
    },
    {
     "data": {
      "image/png": "[encoded data removed]",
      "text/plain": [
       "<matplotlib.figure.Figure at 0x7fe629140e90>"
      ]
     },
     "metadata": {},
     "output_type": "display_data"
    }
   ],
   "source": [
    "key='v2v3_cross'\n",
    "bins=np.linspace(0.01,0.1,num=20)\n",
    "print bins\n",
    "for nn in np.sort(d[key]['ref'].keys())[::-1]:\n",
    "    print nn\n",
    "    hist,bj= np.histogram(dists[nn]*3600,bins=bins,normed=True)\n",
    "    binc= (bins[1:]+bins[:-1])/2\n",
    "    plt.step(binc,hist, where='mid')\n",
    "    print binc,hist\n",
    "plt.xlim((bins[0],bins[-1]))\n",
    "plt.ylim()\n",
    "#     plt.hist(dists[nn]*3600,20,range=(0.01,0.1),normed=True)"
   ]
  },
  {
   "cell_type": "code",
   "execution_count": 413,
   "metadata": {
    "collapsed": false
   },
   "outputs": [
    {
     "data": {
      "text/plain": [
       "<matplotlib.legend.Legend at 0x7fe6246eaa90>"
      ]
     },
     "execution_count": 413,
     "metadata": {},
     "output_type": "execute_result"
    },
    {
     "data": {
      "image/png": "[encoded data removed]",
      "text/plain": [
       "<matplotlib.figure.Figure at 0x7fe622fc2d90>"
      ]
     },
     "metadata": {},
     "output_type": "display_data"
    }
   ],
   "source": [
    "fig,ax=plt.subplots(1,3) #,figsize=(4,8),sharex=True)\n",
    "plt.subplots_adjust(hspace=0)\n",
    "\n",
    "# for cnt,key in zip(range(3),['v2_auto','v3_auto','v2v3_cross']):\n",
    "cnt=0\n",
    "key='v2_auto'\n",
    "for nn in np.sort(d[key]['ref'].keys()):\n",
    "    ax[cnt].hist(d[key]['dist'][nn]*3600,100,range=(0,0.1),label='nn='+nn,\\\n",
    "                normed=True)\n",
    "ax[cnt].legend(loc='upper right')\n",
    "\n",
    "\n",
    "#     hist[band],bins= np.histogram(chi[band][imag],\\\n",
    "#                             range=(low,hi),bins=50,normed=True)\n",
    "#     db= (bins[1:]-bins[:-1])/2\n",
    "#     binc[band]= bins[:-1]+db\n",
    "#     ax[cnt].step(binc[band],hist[band], where='mid',c='b',lw=2) #label=\"%.1f < mag < %.1f\" % (b_low,b_hi))\n"
   ]
  },
  {
   "cell_type": "code",
   "execution_count": 377,
   "metadata": {
    "collapsed": false
   },
   "outputs": [
    {
     "data": {
      "image/png": "[encoded data removed]",
      "text/plain": [
       "<matplotlib.figure.Figure at 0x7fe629826210>"
      ]
     },
     "metadata": {},
     "output_type": "display_data"
    }
   ],
   "source": [
    "d.match_distance(d2d,range=(0,0.15),savefig=False)\n",
    "k."
   ]
  },
  {
   "cell_type": "markdown",
   "metadata": {},
   "source": [
    "# Cosmos comparison"
   ]
  },
  {
   "cell_type": "code",
   "execution_count": 363,
   "metadata": {
    "collapsed": false
   },
   "outputs": [
    {
     "name": "stdout",
     "output_type": "stream",
     "text": [
      "Matched: 87520/102554 objects\n"
     ]
    }
   ],
   "source": [
    "fits_funcs= cat.CatalogueFuncs()\n",
    "c40=fits_funcs.stack('cosmos_40_tractor_list.txt')\n",
    "c41=fits_funcs.stack('cosmos_41_tractor_list.txt')\n",
    "mat=cat.Matcher()\n",
    "cmatch,imiss,c_d2d= mat.match_within(c40,c41) #,dist=1./3600)\n",
    "fits_funcs.set_extra_data(c40)\n",
    "fits_funcs.set_extra_data(c41)"
   ]
  },
  {
   "cell_type": "code",
   "execution_count": 369,
   "metadata": {
    "collapsed": false
   },
   "outputs": [
    {
     "name": "stdout",
     "output_type": "stream",
     "text": [
      "('Fit to Gaussian random draws:', (array([ 0.00891742,  1.00578756]), array([[  2.45959736e-05,  -7.81325000e-12],\n",
      "       [ -7.81325000e-12,   1.63973034e-05]])))\n",
      "band,w= r 2 40 41\n",
      " Cov[r-z,r-g]=[0.54,0.44]\n",
      "[-0.08922685  1.42966662] $\\sigma$=1.84 , 1.5\n",
      " Cov[r-z,r-g]=[-0.04,0.05]\n",
      "[-0.07282076  0.99981886] $\\sigma$=1.01 , 1.02\n",
      "[-0.07282076  0.99981886] (-0.067757026787108418, 1.011918172091693) (-0.049335577, 1.017967337369919)\n",
      "band,w= z 4 40 41\n",
      " Cov[z-r,z-g]=[0.54,0.37]\n",
      "[ 0.00368858  1.44342443] $\\sigma$=1.8 , 1.49\n",
      " Cov[z-r,z-g]=[-0.04,0.0]\n",
      "[ 0.03681704  1.20343182] $\\sigma$=1.24 , 1.21\n",
      "[ 0.03681704  1.20343182] (0.0015381650357208785, 1.2444712383302234) (0.01935184, 1.2096207261085508)\n",
      "band,w= g 1 40 41\n",
      " Cov[g-r,g-z]=[0.44,0.37]\n",
      "[-0.04246938  1.16099443] $\\sigma$=1.28 , 1.17\n",
      " Cov[g-r,g-z]=[0.05,0.0]\n",
      "[-0.09388157  1.03306774] $\\sigma$=1.06 , 1.04\n",
      "[-0.09388157  1.03306774] (-0.026479746719942417, 1.063553463659239) (-0.043351516, 1.0403990864753725)\n"
     ]
    },
    {
     "data": {
      "text/plain": [
       "<matplotlib.figure.Figure at 0x7fe620419350>"
      ]
     },
     "metadata": {},
     "output_type": "display_data"
    },
    {
     "data": {
      "image/png": "[encoded data removed]",
      "text/plain": [
       "<matplotlib.figure.Figure at 0x7fe6204195d0>"
      ]
     },
     "metadata": {},
     "output_type": "display_data"
    }
   ],
   "source": [
    "import plots\n",
    "e=plots.EnriqueCosmos(c40,c41,cmatch,ref_name='40',obs_name='41',savefig=False)"
   ]
  },
  {
   "cell_type": "code",
   "execution_count": 367,
   "metadata": {
    "collapsed": true
   },
   "outputs": [],
   "source": [
    "import plots"
   ]
  },
  {
   "cell_type": "code",
   "execution_count": null,
   "metadata": {
    "collapsed": true
   },
   "outputs": [],
   "source": []
  }
 ],
 "metadata": {
  "anaconda-cloud": {},
  "kernelspec": {
   "display_name": "Python 2",
   "language": "python",
   "name": "python2"
  },
  "language_info": {
   "codemirror_mode": {
    "name": "ipython",
    "version": 2
   },
   "file_extension": ".py",
   "mimetype": "text/x-python",
   "name": "python",
   "nbconvert_exporter": "python",
   "pygments_lexer": "ipython2",
   "version": "2.7.11"
  }
 },
 "nbformat": 4,
 "nbformat_minor": 1
}
